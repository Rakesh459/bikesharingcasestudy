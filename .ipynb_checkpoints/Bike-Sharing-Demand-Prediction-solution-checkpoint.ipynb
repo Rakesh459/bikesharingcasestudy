{
 "cells": [
  {
   "cell_type": "markdown",
   "id": "51285042",
   "metadata": {
    "id": "51285042"
   },
   "source": [
    "# Multiple Linear Regression\n",
    "# Bike Sharing Demand\n",
    "### Problem Statement:\n",
    "##### A bike-sharing provider EBikes has recently suffered considerable dips in their revenues\n",
    "#### They have contracted a consulting company to understand the factors on which the demand for these shared bikes depends. ####Specifically, they want to understand the factors affecting the demand for these shared bikes in the American market\n",
    "#### The company wants to know:__Which variables are significant in predicting the demand for shared bikes\n",
    "#### How well those variables describe the bike demands\n",
    "#### You are required to model the demand for shared bikes with the available independent variables\n",
    "#### It will be used by the management to understand how exactly the demands vary with different features\n",
    "#### They can accordingly manipulate the business strategy to meet the demand levels and meet the customers expectations \n",
    "#### Further, the model will be a good way for management to understand the demand dynamics of a new market###\n",
    "\n",
    "# Step 1: Reading and Understanding the Data"
   ]
  },
  {
   "cell_type": "code",
   "execution_count": null,
   "id": "ce8f4be9",
   "metadata": {
    "executionInfo": {
     "elapsed": 1904,
     "status": "ok",
     "timestamp": 1656728030147,
     "user": {
      "displayName": "harish kumar",
      "userId": "06127230580454505577"
     },
     "user_tz": -330
    },
    "id": "ce8f4be9"
   },
   "outputs": [],
   "source": [
    "#importing libraries\n",
    "\n",
    "import numpy as np\n",
    "import pandas as pd\n",
    "import matplotlib.pyplot as plt\n",
    "import seaborn as sns\n",
    "%matplotlib inline\n",
    "\n",
    "import statsmodels.api as sm\n",
    "from statsmodels.stats.outliers_influence import variance_inflation_factor\n",
    "\n",
    "import sklearn\n",
    "from sklearn.model_selection import train_test_split\n",
    "from sklearn.preprocessing import MinMaxScaler\n",
    "from sklearn.linear_model import LinearRegression\n",
    "from sklearn.feature_selection import RFE\n",
    "from sklearn.metrics import r2_score\n",
    "\n",
    "from math import sqrt"
   ]
  },
  {
   "cell_type": "code",
   "execution_count": null,
   "id": "b80c21e4",
   "metadata": {
    "executionInfo": {
     "elapsed": 411,
     "status": "ok",
     "timestamp": 1656728026464,
     "user": {
      "displayName": "harish kumar",
      "userId": "06127230580454505577"
     },
     "user_tz": -330
    },
    "id": "9718a1a6"
   },
   "outputs": [],
   "source": [
    "# Supress Warnings\n",
    "import warnings\n",
    "warnings.filterwarnings('ignore')"
   ]
  },
  {
   "cell_type": "code",
   "execution_count": null,
   "id": "9172247d",
   "metadata": {
    "colab": {
     "base_uri": "https://localhost:8080/",
     "height": 357
    },
    "executionInfo": {
     "elapsed": 452,
     "status": "ok",
     "timestamp": 1656728041136,
     "user": {
      "displayName": "harish kumar",
      "userId": "06127230580454505577"
     },
     "user_tz": -330
    },
    "id": "9172247d",
    "outputId": "3d6efdde-0556-42f2-86dd-4e663d942896"
   },
   "outputs": [],
   "source": [
    "## reading data\n",
    "bike_data = pd.read_csv('day.csv')\n",
    "bike_data.head()"
   ]
  },
  {
   "cell_type": "code",
   "execution_count": null,
   "id": "b4046e79",
   "metadata": {
    "colab": {
     "base_uri": "https://localhost:8080/"
    },
    "executionInfo": {
     "elapsed": 490,
     "status": "ok",
     "timestamp": 1656728046491,
     "user": {
      "displayName": "harish kumar",
      "userId": "06127230580454505577"
     },
     "user_tz": -330
    },
    "id": "b4046e79",
    "outputId": "a3c9b5b7-3da9-4358-a697-1a14207a4d75"
   },
   "outputs": [],
   "source": [
    "bike_data.shape"
   ]
  },
  {
   "cell_type": "code",
   "execution_count": null,
   "id": "7d225f32",
   "metadata": {
    "colab": {
     "base_uri": "https://localhost:8080/"
    },
    "executionInfo": {
     "elapsed": 4,
     "status": "ok",
     "timestamp": 1656728048502,
     "user": {
      "displayName": "harish kumar",
      "userId": "06127230580454505577"
     },
     "user_tz": -330
    },
    "id": "7d225f32",
    "outputId": "a603d403-ef06-41b8-bf55-e3a7e6c2ed54"
   },
   "outputs": [],
   "source": [
    "bike_data.info()"
   ]
  },
  {
   "cell_type": "code",
   "execution_count": null,
   "id": "3f1933a9",
   "metadata": {
    "colab": {
     "base_uri": "https://localhost:8080/",
     "height": 364
    },
    "executionInfo": {
     "elapsed": 432,
     "status": "ok",
     "timestamp": 1656728057789,
     "user": {
      "displayName": "harish kumar",
      "userId": "06127230580454505577"
     },
     "user_tz": -330
    },
    "id": "3f1933a9",
    "outputId": "09b808aa-8d70-472d-9447-d04f7d76dbac"
   },
   "outputs": [],
   "source": [
    "bike_data.describe()"
   ]
  },
  {
   "cell_type": "markdown",
   "id": "0d691570",
   "metadata": {
    "id": "0d691570"
   },
   "source": [
    "#### Since the difference between mean and median is not much , we can conclude that data has no outliers\n",
    "\n",
    "## Step 2: Visualising the Data"
   ]
  },
  {
   "cell_type": "code",
   "execution_count": null,
   "id": "3308042f",
   "metadata": {
    "executionInfo": {
     "elapsed": 794,
     "status": "ok",
     "timestamp": 1656728062905,
     "user": {
      "displayName": "harish kumar",
      "userId": "06127230580454505577"
     },
     "user_tz": -330
    },
    "id": "3308042f"
   },
   "outputs": [],
   "source": [
    "import matplotlib.pyplot as plt\n",
    "import seaborn as sns"
   ]
  },
  {
   "cell_type": "markdown",
   "id": "7e9d209a",
   "metadata": {
    "id": "7e9d209a"
   },
   "source": [
    "#### Visualising Numeric Variables\n",
    "\n",
    "#### Let's make a pairplot of all the numeric variables"
   ]
  },
  {
   "cell_type": "code",
   "execution_count": null,
   "id": "f56bf13f",
   "metadata": {
    "colab": {
     "base_uri": "https://localhost:8080/",
     "height": 903
    },
    "executionInfo": {
     "elapsed": 11894,
     "status": "ok",
     "timestamp": 1656728082514,
     "user": {
      "displayName": "harish kumar",
      "userId": "06127230580454505577"
     },
     "user_tz": -330
    },
    "id": "f56bf13f",
    "outputId": "aab9974d-e038-4a7e-be39-fd8ab439f26e"
   },
   "outputs": [],
   "source": [
    "sns.pairplot(data=bike_data,vars=['cnt', 'temp', 'atemp', 'hum','windspeed'])\n",
    "plt.show()"
   ]
  },
  {
   "cell_type": "markdown",
   "id": "571db7db",
   "metadata": {
    "id": "571db7db"
   },
   "source": [
    "### Inference:\n",
    "### Looks like the temp and atemp has the highest corelation with the target variable cnt\n",
    "### temp and atemp are highly co-related with each other"
   ]
  },
  {
   "cell_type": "markdown",
   "id": "5223f481",
   "metadata": {
    "id": "5223f481"
   },
   "source": [
    "### Visualising Categorical Variables"
   ]
  },
  {
   "cell_type": "code",
   "execution_count": null,
   "id": "687aa26f",
   "metadata": {
    "colab": {
     "base_uri": "https://localhost:8080/",
     "height": 555
    },
    "executionInfo": {
     "elapsed": 1569,
     "status": "ok",
     "timestamp": 1656728560171,
     "user": {
      "displayName": "harish kumar",
      "userId": "06127230580454505577"
     },
     "user_tz": -330
    },
    "id": "687aa26f",
    "outputId": "4ab9f4e3-958c-436d-b422-e7454c1abeeb"
   },
   "outputs": [],
   "source": [
    "plt.figure(figsize=(20, 12))\n",
    "plt.subplot(2,3,1)\n",
    "sns.boxplot(x = 'season', y = 'cnt', data = bike_data)\n",
    "plt.subplot(2,3,2)\n",
    "sns.boxplot(x = 'mnth', y = 'cnt', data = bike_data)\n",
    "plt.subplot(2,3,3)\n",
    "sns.boxplot(x = 'holiday', y = 'cnt', data = bike_data)\n",
    "plt.subplot(2,3,4)\n",
    "sns.boxplot(x = 'weathersit', y = 'cnt', data = bike_data)\n",
    "plt.subplot(2,3,5)\n",
    "sns.boxplot(x = 'yr', y = 'cnt', data = bike_data)\n",
    "plt.subplot(2,3,6)\n",
    "sns.boxplot(x = 'weekday', y = 'cnt', data = bike_data)\n",
    "plt.show()"
   ]
  },
  {
   "cell_type": "code",
   "execution_count": null,
   "id": "b6dbd729",
   "metadata": {
    "colab": {
     "base_uri": "https://localhost:8080/",
     "height": 334
    },
    "executionInfo": {
     "elapsed": 443,
     "status": "ok",
     "timestamp": 1656728565187,
     "user": {
      "displayName": "harish kumar",
      "userId": "06127230580454505577"
     },
     "user_tz": -330
    },
    "id": "b6dbd729",
    "outputId": "022f36ec-e27d-4706-b950-34ba2ff6da2d"
   },
   "outputs": [],
   "source": [
    "plt.figure(figsize = (10, 5))\n",
    "sns.boxplot(x = 'workingday', y = 'cnt', data = bike_data)\n",
    "plt.show()"
   ]
  },
  {
   "cell_type": "markdown",
   "id": "5c88bd17",
   "metadata": {
    "id": "5c88bd17"
   },
   "source": [
    "## Inferences\n",
    "#### The count of bike sharing is least for spring and highest in fall\n",
    "#### The number of bike shares increased in 2019\n",
    "#### The cnt has zero values for weather situation - 'Heavy Rain + Ice Pallets + Thunderstorm + Mist, Snow + Fog' & highest in clear weathersit \n",
    "#### The cnt values increases in summer months & highest in September\n",
    "#### The cnt values ars less during holidays"
   ]
  },
  {
   "cell_type": "markdown",
   "id": "5c1b4740",
   "metadata": {
    "id": "5c1b4740"
   },
   "source": [
    "# Step 3: Data Preparation"
   ]
  },
  {
   "cell_type": "code",
   "execution_count": null,
   "id": "318bc2d4",
   "metadata": {
    "colab": {
     "base_uri": "https://localhost:8080/",
     "height": 206
    },
    "executionInfo": {
     "elapsed": 419,
     "status": "ok",
     "timestamp": 1656728571089,
     "user": {
      "displayName": "harish kumar",
      "userId": "06127230580454505577"
     },
     "user_tz": -330
    },
    "id": "318bc2d4",
    "outputId": "7ea4e58d-b683-411a-e721-437bf91bb124"
   },
   "outputs": [],
   "source": [
    "## dropping columns that are irrelevant for the model - \n",
    "bike_data.drop(['instant','dteday','casual','registered'],axis = 1,inplace = True)\n",
    "bike_data.head()"
   ]
  },
  {
   "cell_type": "code",
   "execution_count": null,
   "id": "c0aaa4f2",
   "metadata": {
    "executionInfo": {
     "elapsed": 628,
     "status": "ok",
     "timestamp": 1656728587837,
     "user": {
      "displayName": "harish kumar",
      "userId": "06127230580454505577"
     },
     "user_tz": -330
    },
    "id": "c0aaa4f2"
   },
   "outputs": [],
   "source": [
    "### Converting some numeric values to categorical data\n",
    "import calendar\n",
    "bike_data['mnth'] = bike_data['mnth'].apply(lambda x: calendar.month_abbr[x])"
   ]
  },
  {
   "cell_type": "code",
   "execution_count": null,
   "id": "bb88cf23",
   "metadata": {
    "executionInfo": {
     "elapsed": 398,
     "status": "ok",
     "timestamp": 1656728592685,
     "user": {
      "displayName": "harish kumar",
      "userId": "06127230580454505577"
     },
     "user_tz": -330
    },
    "id": "bb88cf23"
   },
   "outputs": [],
   "source": [
    "## maping seasons\n",
    "bike_data.season = bike_data.season.map({1: 'Spring',2:'Summer',3:'Fall',4:'Winter'})"
   ]
  },
  {
   "cell_type": "code",
   "execution_count": null,
   "id": "df14a4f2",
   "metadata": {
    "executionInfo": {
     "elapsed": 442,
     "status": "ok",
     "timestamp": 1656728597513,
     "user": {
      "displayName": "harish kumar",
      "userId": "06127230580454505577"
     },
     "user_tz": -330
    },
    "id": "df14a4f2"
   },
   "outputs": [],
   "source": [
    "## mapping weathersit\n",
    "bike_data.weathersit = bike_data.weathersit.map({1:'Clear',2:'Mist & Cloudy', \n",
    "                                             3:'Light Snow & Rain',4:'Heavy Snow & Rain'})"
   ]
  },
  {
   "cell_type": "code",
   "execution_count": null,
   "id": "bfbbc50b",
   "metadata": {
    "executionInfo": {
     "elapsed": 4,
     "status": "ok",
     "timestamp": 1656728599415,
     "user": {
      "displayName": "harish kumar",
      "userId": "06127230580454505577"
     },
     "user_tz": -330
    },
    "id": "bfbbc50b"
   },
   "outputs": [],
   "source": [
    "bike_data.weekday = bike_data.weekday.map({0:\"Sunday\",1:\"Monday\",2:\"Tuesday\",3:\"Wednesday\",4:\"Thrusday\",5:\"Friday\",6:\"Saturday\"})"
   ]
  },
  {
   "cell_type": "code",
   "execution_count": null,
   "id": "65bf5a06",
   "metadata": {
    "colab": {
     "base_uri": "https://localhost:8080/",
     "height": 206
    },
    "executionInfo": {
     "elapsed": 420,
     "status": "ok",
     "timestamp": 1656728607997,
     "user": {
      "displayName": "harish kumar",
      "userId": "06127230580454505577"
     },
     "user_tz": -330
    },
    "id": "65bf5a06",
    "outputId": "50da3c7e-d66d-420c-e54b-9e85fc23f85f"
   },
   "outputs": [],
   "source": [
    "# Check the dataframe now\n",
    "\n",
    "bike_data.head()"
   ]
  },
  {
   "cell_type": "markdown",
   "id": "5f833cf8",
   "metadata": {
    "id": "5f833cf8"
   },
   "source": [
    "# Dummy Variables"
   ]
  },
  {
   "cell_type": "code",
   "execution_count": null,
   "id": "0b3a2aa6",
   "metadata": {
    "executionInfo": {
     "elapsed": 3,
     "status": "ok",
     "timestamp": 1656728638836,
     "user": {
      "displayName": "harish kumar",
      "userId": "06127230580454505577"
     },
     "user_tz": -330
    },
    "id": "0b3a2aa6"
   },
   "outputs": [],
   "source": [
    "### creating dummy variables for season , mnth ,weathersit ,weekday\n",
    "dummy = bike_data[['season','mnth','weekday','weathersit']]\n",
    "\n",
    "dummy = pd.get_dummies(dummy,drop_first=True )"
   ]
  },
  {
   "cell_type": "code",
   "execution_count": null,
   "id": "38a2540e",
   "metadata": {
    "colab": {
     "base_uri": "https://localhost:8080/",
     "height": 334
    },
    "executionInfo": {
     "elapsed": 446,
     "status": "ok",
     "timestamp": 1656728681323,
     "user": {
      "displayName": "harish kumar",
      "userId": "06127230580454505577"
     },
     "user_tz": -330
    },
    "id": "38a2540e",
    "outputId": "5b4cb870-cd42-4c68-af67-59b52653d52c"
   },
   "outputs": [],
   "source": [
    "## adding dummy variables to original dataset\n",
    "bike_data = pd.concat([dummy,bike_data],axis = 1)\n",
    "\n",
    "# Now let's see the head of our dataframe.\n",
    "bike_data.head()"
   ]
  },
  {
   "cell_type": "code",
   "execution_count": null,
   "id": "544b4af8",
   "metadata": {
    "colab": {
     "base_uri": "https://localhost:8080/",
     "height": 317
    },
    "executionInfo": {
     "elapsed": 405,
     "status": "ok",
     "timestamp": 1656728689127,
     "user": {
      "displayName": "harish kumar",
      "userId": "06127230580454505577"
     },
     "user_tz": -330
    },
    "id": "544b4af8",
    "outputId": "4269cadf-c4a9-476a-ffeb-7e40d74aae5c"
   },
   "outputs": [],
   "source": [
    "## dropping columns for which dummy variables were created\n",
    "bike_data.drop(['season', 'mnth', 'weekday','weathersit'], axis = 1, inplace = True)\n",
    "\n",
    "bike_data.head()"
   ]
  },
  {
   "cell_type": "code",
   "execution_count": null,
   "id": "a6453b18",
   "metadata": {
    "colab": {
     "base_uri": "https://localhost:8080/"
    },
    "executionInfo": {
     "elapsed": 413,
     "status": "ok",
     "timestamp": 1656728705762,
     "user": {
      "displayName": "harish kumar",
      "userId": "06127230580454505577"
     },
     "user_tz": -330
    },
    "id": "a6453b18",
    "outputId": "465c2e25-485a-41a3-9f36-ce62e9cae0b2"
   },
   "outputs": [],
   "source": [
    "bike_data.shape"
   ]
  },
  {
   "cell_type": "markdown",
   "id": "d619d98d",
   "metadata": {
    "id": "d619d98d"
   },
   "source": [
    "# Step 4: Splitting the Data into Training and Testing Sets\n",
    "### As you know, the first basic step for regression is performing a train-test split."
   ]
  },
  {
   "cell_type": "code",
   "execution_count": null,
   "id": "81198eb7",
   "metadata": {
    "executionInfo": {
     "elapsed": 457,
     "status": "ok",
     "timestamp": 1656728713303,
     "user": {
      "displayName": "harish kumar",
      "userId": "06127230580454505577"
     },
     "user_tz": -330
    },
    "id": "81198eb7"
   },
   "outputs": [],
   "source": [
    "train, test = train_test_split(bike_data, train_size = 0.7, test_size = 0.3, random_state = 100)"
   ]
  },
  {
   "cell_type": "code",
   "execution_count": null,
   "id": "af6ea84e",
   "metadata": {
    "executionInfo": {
     "elapsed": 424,
     "status": "ok",
     "timestamp": 1656728720396,
     "user": {
      "displayName": "harish kumar",
      "userId": "06127230580454505577"
     },
     "user_tz": -330
    },
    "id": "af6ea84e"
   },
   "outputs": [],
   "source": [
    "#Rescaling the Features\n",
    "\n",
    "scaler = MinMaxScaler()"
   ]
  },
  {
   "cell_type": "code",
   "execution_count": null,
   "id": "e75d0892",
   "metadata": {
    "executionInfo": {
     "elapsed": 513,
     "status": "ok",
     "timestamp": 1656728747586,
     "user": {
      "displayName": "harish kumar",
      "userId": "06127230580454505577"
     },
     "user_tz": -330
    },
    "id": "e75d0892"
   },
   "outputs": [],
   "source": [
    "# Apply scaler() to all the columns except the 'dummy' variables.\n",
    "num_vars = ['cnt','hum','windspeed','temp','atemp']\n",
    "\n",
    "train[num_vars] = scaler.fit_transform(train[num_vars])"
   ]
  },
  {
   "cell_type": "code",
   "execution_count": null,
   "id": "daeec41c",
   "metadata": {
    "colab": {
     "base_uri": "https://localhost:8080/",
     "height": 317
    },
    "executionInfo": {
     "elapsed": 447,
     "status": "ok",
     "timestamp": 1656728753153,
     "user": {
      "displayName": "harish kumar",
      "userId": "06127230580454505577"
     },
     "user_tz": -330
    },
    "id": "daeec41c",
    "outputId": "b0168782-4fa6-45ed-ad70-a6cdb580cfc1"
   },
   "outputs": [],
   "source": [
    "train.head()"
   ]
  },
  {
   "cell_type": "code",
   "execution_count": null,
   "id": "b96d3d5f",
   "metadata": {
    "colab": {
     "base_uri": "https://localhost:8080/",
     "height": 411
    },
    "executionInfo": {
     "elapsed": 435,
     "status": "ok",
     "timestamp": 1656728804604,
     "user": {
      "displayName": "harish kumar",
      "userId": "06127230580454505577"
     },
     "user_tz": -330
    },
    "id": "b96d3d5f",
    "outputId": "3bc4108b-488b-4618-c5e5-f8eed3670593"
   },
   "outputs": [],
   "source": [
    "train.describe()"
   ]
  },
  {
   "cell_type": "code",
   "execution_count": null,
   "id": "c4916601",
   "metadata": {
    "colab": {
     "base_uri": "https://localhost:8080/",
     "height": 570
    },
    "executionInfo": {
     "elapsed": 6943,
     "status": "ok",
     "timestamp": 1656728816645,
     "user": {
      "displayName": "harish kumar",
      "userId": "06127230580454505577"
     },
     "user_tz": -330
    },
    "id": "c4916601",
    "outputId": "f9e4d7b2-c97a-4aa5-8478-1651ec846b5f"
   },
   "outputs": [],
   "source": [
    "# Let's check the correlation coefficients to see which variables are highly correlated\n",
    "plt.figure(figsize = (20, 10))\n",
    "sns.heatmap(train.corr(), annot = True, cmap=\"YlGnBu\")\n",
    "plt.show()"
   ]
  },
  {
   "cell_type": "code",
   "execution_count": null,
   "id": "868f54ab",
   "metadata": {
    "executionInfo": {
     "elapsed": 429,
     "status": "ok",
     "timestamp": 1656728885091,
     "user": {
      "displayName": "harish kumar",
      "userId": "06127230580454505577"
     },
     "user_tz": -330
    },
    "id": "868f54ab"
   },
   "outputs": [],
   "source": [
    "\n",
    "#We'll first build a model using all the columns\n",
    "\n",
    "#Dividing into X and Y sets for the model building\n",
    "\n",
    "y_train = train.pop('cnt')\n",
    "X_train = train"
   ]
  },
  {
   "cell_type": "markdown",
   "id": "4daeacbd",
   "metadata": {
    "id": "4daeacbd"
   },
   "source": [
    "# Step 5: Building a linear model\n",
    "\n",
    "#### Fit a regression line through the training data using statsmodels. In statsmodels, you need to explicitly fit a constant using sm.add_constant(X) because if we don't perform this step, statsmodels fits a regression line passing through the origin, by default."
   ]
  },
  {
   "cell_type": "code",
   "execution_count": null,
   "id": "dd33b5b6",
   "metadata": {
    "executionInfo": {
     "elapsed": 436,
     "status": "ok",
     "timestamp": 1656729518087,
     "user": {
      "displayName": "harish kumar",
      "userId": "06127230580454505577"
     },
     "user_tz": -330
    },
    "id": "dd33b5b6"
   },
   "outputs": [],
   "source": [
    "# Running RFE with the output number of the variable equal to 13\n",
    "lm = LinearRegression()\n",
    "lm.fit(X_train, y_train)\n",
    "\n",
    "rfe = RFE(lm,n_features_to_select = 13)             # running RFE\n",
    "rfe = rfe.fit(X_train, y_train)"
   ]
  },
  {
   "cell_type": "code",
   "execution_count": null,
   "id": "w6JKodKryBmI",
   "metadata": {
    "colab": {
     "base_uri": "https://localhost:8080/"
    },
    "executionInfo": {
     "elapsed": 417,
     "status": "ok",
     "timestamp": 1656729652759,
     "user": {
      "displayName": "harish kumar",
      "userId": "06127230580454505577"
     },
     "user_tz": -330
    },
    "id": "w6JKodKryBmI",
    "outputId": "015ea901-94ba-4a3a-e313-8e33861f72af"
   },
   "outputs": [],
   "source": [
    "X_train.columns"
   ]
  },
  {
   "cell_type": "code",
   "execution_count": null,
   "id": "lIwP2TTTyFY2",
   "metadata": {
    "colab": {
     "base_uri": "https://localhost:8080/"
    },
    "executionInfo": {
     "elapsed": 622,
     "status": "ok",
     "timestamp": 1656729664424,
     "user": {
      "displayName": "harish kumar",
      "userId": "06127230580454505577"
     },
     "user_tz": -330
    },
    "id": "lIwP2TTTyFY2",
    "outputId": "48df4c32-9201-426a-85a0-3347ef9190f5"
   },
   "outputs": [],
   "source": [
    "rfe.support_"
   ]
  },
  {
   "cell_type": "code",
   "execution_count": null,
   "id": "GJz3OOSOyIYH",
   "metadata": {
    "colab": {
     "base_uri": "https://localhost:8080/"
    },
    "executionInfo": {
     "elapsed": 5,
     "status": "ok",
     "timestamp": 1656729676531,
     "user": {
      "displayName": "harish kumar",
      "userId": "06127230580454505577"
     },
     "user_tz": -330
    },
    "id": "GJz3OOSOyIYH",
    "outputId": "2b7794cb-2f1a-4da8-fd04-712b59864ade"
   },
   "outputs": [],
   "source": [
    "rfe.ranking_"
   ]
  },
  {
   "cell_type": "code",
   "execution_count": null,
   "id": "8f9eecb6",
   "metadata": {
    "colab": {
     "base_uri": "https://localhost:8080/"
    },
    "executionInfo": {
     "elapsed": 435,
     "status": "ok",
     "timestamp": 1656729527839,
     "user": {
      "displayName": "harish kumar",
      "userId": "06127230580454505577"
     },
     "user_tz": -330
    },
    "id": "8f9eecb6",
    "outputId": "fca42044-26d4-4ba9-f578-9774fe4766f1"
   },
   "outputs": [],
   "source": [
    "#Columns selected by RFE and their weights\n",
    "list(zip(X_train.columns,rfe.support_,rfe.ranking_))"
   ]
  },
  {
   "cell_type": "markdown",
   "id": "3222e94a",
   "metadata": {
    "id": "3222e94a"
   },
   "source": [
    "### Starting with all the columns selected by RFE\n",
    "### Model 1"
   ]
  },
  {
   "cell_type": "code",
   "execution_count": null,
   "id": "50105947",
   "metadata": {
    "colab": {
     "base_uri": "https://localhost:8080/"
    },
    "executionInfo": {
     "elapsed": 444,
     "status": "ok",
     "timestamp": 1656729740024,
     "user": {
      "displayName": "harish kumar",
      "userId": "06127230580454505577"
     },
     "user_tz": -330
    },
    "id": "50105947",
    "outputId": "11abe878-1314-4168-adf9-1d410e2c7bb3"
   },
   "outputs": [],
   "source": [
    "#Print Columns selected by RFE. We will start with these columns for manual elimination\n",
    "col = X_train.columns[rfe.support_]\n",
    "col"
   ]
  },
  {
   "cell_type": "code",
   "execution_count": null,
   "id": "78ef1e83",
   "metadata": {
    "colab": {
     "base_uri": "https://localhost:8080/"
    },
    "executionInfo": {
     "elapsed": 424,
     "status": "ok",
     "timestamp": 1656729758512,
     "user": {
      "displayName": "harish kumar",
      "userId": "06127230580454505577"
     },
     "user_tz": -330
    },
    "id": "78ef1e83",
    "outputId": "961e63f7-16c3-47e0-8b1b-16d589c883c3",
    "scrolled": true
   },
   "outputs": [],
   "source": [
    "X_train.columns[~rfe.support_]"
   ]
  },
  {
   "cell_type": "code",
   "execution_count": null,
   "id": "9423d2ff",
   "metadata": {
    "executionInfo": {
     "elapsed": 517,
     "status": "ok",
     "timestamp": 1656729765454,
     "user": {
      "displayName": "harish kumar",
      "userId": "06127230580454505577"
     },
     "user_tz": -330
    },
    "id": "9423d2ff"
   },
   "outputs": [],
   "source": [
    "# Creating X_train dataframe with RFE selected variables\n",
    "X_train_rfe = X_train[col]"
   ]
  },
  {
   "cell_type": "code",
   "execution_count": null,
   "id": "4af73fad",
   "metadata": {
    "executionInfo": {
     "elapsed": 408,
     "status": "ok",
     "timestamp": 1656729771759,
     "user": {
      "displayName": "harish kumar",
      "userId": "06127230580454505577"
     },
     "user_tz": -330
    },
    "id": "4af73fad"
   },
   "outputs": [],
   "source": [
    "# Adding a constant variable \n",
    " \n",
    "X_train_rfe = sm.add_constant(X_train_rfe)"
   ]
  },
  {
   "cell_type": "code",
   "execution_count": null,
   "id": "e36b5c8e",
   "metadata": {
    "executionInfo": {
     "elapsed": 405,
     "status": "ok",
     "timestamp": 1656729777828,
     "user": {
      "displayName": "harish kumar",
      "userId": "06127230580454505577"
     },
     "user_tz": -330
    },
    "id": "e36b5c8e"
   },
   "outputs": [],
   "source": [
    "# Create a first fitted model\n",
    "lm = sm.OLS(y_train,X_train_rfe).fit()"
   ]
  },
  {
   "cell_type": "code",
   "execution_count": null,
   "id": "4b5a1a89",
   "metadata": {
    "colab": {
     "base_uri": "https://localhost:8080/"
    },
    "executionInfo": {
     "elapsed": 11,
     "status": "ok",
     "timestamp": 1656729781430,
     "user": {
      "displayName": "harish kumar",
      "userId": "06127230580454505577"
     },
     "user_tz": -330
    },
    "id": "4b5a1a89",
    "outputId": "b82406af-c0fe-4265-e3d3-65443017ea16"
   },
   "outputs": [],
   "source": [
    "# Check the parameters obtained\n",
    "\n",
    "lm.params"
   ]
  },
  {
   "cell_type": "code",
   "execution_count": null,
   "id": "f1a47d2d",
   "metadata": {
    "colab": {
     "base_uri": "https://localhost:8080/"
    },
    "executionInfo": {
     "elapsed": 450,
     "status": "ok",
     "timestamp": 1656729797938,
     "user": {
      "displayName": "harish kumar",
      "userId": "06127230580454505577"
     },
     "user_tz": -330
    },
    "id": "f1a47d2d",
    "outputId": "7bfad9fc-35ce-4019-d3f7-62d4ada3b30b",
    "scrolled": false
   },
   "outputs": [],
   "source": [
    "# Print a summary of the linear regression model obtained\n",
    "print(lm.summary())"
   ]
  },
  {
   "cell_type": "markdown",
   "id": "37600175",
   "metadata": {
    "id": "37600175"
   },
   "source": [
    "###### dropping weekday_Saturday since it has p > 0.05"
   ]
  },
  {
   "cell_type": "code",
   "execution_count": null,
   "id": "76892561",
   "metadata": {
    "executionInfo": {
     "elapsed": 528,
     "status": "ok",
     "timestamp": 1656730225479,
     "user": {
      "displayName": "harish kumar",
      "userId": "06127230580454505577"
     },
     "user_tz": -330
    },
    "id": "76892561"
   },
   "outputs": [],
   "source": [
    "X_train_new = X_train_rfe.drop([\"atemp\"], axis = 1)"
   ]
  },
  {
   "cell_type": "markdown",
   "id": "e9f8cda6",
   "metadata": {
    "id": "e9f8cda6"
   },
   "source": [
    "####### Rebuilding the model without 'atemp'\n",
    "\n",
    "*   List item\n",
    "\n",
    "*   List item\n",
    "*   List item\n",
    "\n",
    "\n",
    "*   List item\n",
    "\n",
    "\n",
    "\n",
    "### Model 2"
   ]
  },
  {
   "cell_type": "code",
   "execution_count": null,
   "id": "e64b53a1",
   "metadata": {
    "executionInfo": {
     "elapsed": 420,
     "status": "ok",
     "timestamp": 1656730243181,
     "user": {
      "displayName": "harish kumar",
      "userId": "06127230580454505577"
     },
     "user_tz": -330
    },
    "id": "e64b53a1"
   },
   "outputs": [],
   "source": [
    "# Adding a constant variable \n",
    "X_train_lm = sm.add_constant(X_train_new)"
   ]
  },
  {
   "cell_type": "code",
   "execution_count": null,
   "id": "2f37a88c",
   "metadata": {
    "executionInfo": {
     "elapsed": 3,
     "status": "ok",
     "timestamp": 1656730245112,
     "user": {
      "displayName": "harish kumar",
      "userId": "06127230580454505577"
     },
     "user_tz": -330
    },
    "id": "2f37a88c"
   },
   "outputs": [],
   "source": [
    "lm = sm.OLS(y_train,X_train_lm).fit()   # Running the linear model"
   ]
  },
  {
   "cell_type": "code",
   "execution_count": null,
   "id": "9d425bf2",
   "metadata": {
    "colab": {
     "base_uri": "https://localhost:8080/",
     "height": 681
    },
    "executionInfo": {
     "elapsed": 715,
     "status": "ok",
     "timestamp": 1656730247415,
     "user": {
      "displayName": "harish kumar",
      "userId": "06127230580454505577"
     },
     "user_tz": -330
    },
    "id": "9d425bf2",
    "outputId": "0cba84f4-a271-42dd-c5c1-d51daaf3385b"
   },
   "outputs": [],
   "source": [
    "lm.summary()"
   ]
  },
  {
   "cell_type": "markdown",
   "id": "1561ad7e",
   "metadata": {
    "id": "1561ad7e"
   },
   "source": [
    "#### Checking VIF for multicollinearity"
   ]
  },
  {
   "cell_type": "code",
   "execution_count": null,
   "id": "8ec941d6",
   "metadata": {
    "colab": {
     "base_uri": "https://localhost:8080/",
     "height": 457
    },
    "executionInfo": {
     "elapsed": 412,
     "status": "ok",
     "timestamp": 1656730268073,
     "user": {
      "displayName": "harish kumar",
      "userId": "06127230580454505577"
     },
     "user_tz": -330
    },
    "id": "8ec941d6",
    "outputId": "c2d4b2d1-0242-4e8f-bc25-b4f3aba50d62"
   },
   "outputs": [],
   "source": [
    "# Calculate the VIFs for the new model\n",
    "vif = pd.DataFrame()\n",
    "X = X_train_new\n",
    "vif['Features'] = X.columns\n",
    "vif['VIF'] = [variance_inflation_factor(X.values, i) for i in range(X.shape[1])]\n",
    "vif['VIF'] = round(vif['VIF'], 2)\n",
    "vif = vif.sort_values(by = \"VIF\", ascending = False)\n",
    "vif"
   ]
  },
  {
   "cell_type": "markdown",
   "id": "14f5827b",
   "metadata": {
    "id": "14f5827b"
   },
   "source": [
    "#### We generally want a VIF that is less than 5. So there are clearly some variables we need to drop."
   ]
  },
  {
   "cell_type": "code",
   "execution_count": null,
   "id": "50fad352",
   "metadata": {
    "executionInfo": {
     "elapsed": 443,
     "status": "ok",
     "timestamp": 1656730283217,
     "user": {
      "displayName": "harish kumar",
      "userId": "06127230580454505577"
     },
     "user_tz": -330
    },
    "id": "50fad352"
   },
   "outputs": [],
   "source": [
    "X_train_new = X_train_new.drop(['const'], axis=1)"
   ]
  },
  {
   "cell_type": "code",
   "execution_count": null,
   "id": "5f0d3c0c",
   "metadata": {
    "colab": {
     "base_uri": "https://localhost:8080/",
     "height": 425
    },
    "executionInfo": {
     "elapsed": 10,
     "status": "ok",
     "timestamp": 1656730285117,
     "user": {
      "displayName": "harish kumar",
      "userId": "06127230580454505577"
     },
     "user_tz": -330
    },
    "id": "5f0d3c0c",
    "outputId": "3f02d67a-300c-4dc2-8ab0-95fe2e8f6612"
   },
   "outputs": [],
   "source": [
    "# Calculate the VIFs for the new model again\n",
    "vif = pd.DataFrame()\n",
    "X = X_train_new\n",
    "vif['Features'] = X.columns\n",
    "vif['VIF'] = [variance_inflation_factor(X.values, i) for i in range(X.shape[1])]\n",
    "vif['VIF'] = round(vif['VIF'], 2)\n",
    "vif = vif.sort_values(by = \"VIF\", ascending = False)\n",
    "vif"
   ]
  },
  {
   "cell_type": "markdown",
   "id": "709dcd52",
   "metadata": {
    "id": "709dcd52"
   },
   "source": [
    "### Model 3"
   ]
  },
  {
   "cell_type": "code",
   "execution_count": null,
   "id": "09eb1f8c",
   "metadata": {
    "executionInfo": {
     "elapsed": 415,
     "status": "ok",
     "timestamp": 1656730298254,
     "user": {
      "displayName": "harish kumar",
      "userId": "06127230580454505577"
     },
     "user_tz": -330
    },
    "id": "09eb1f8c"
   },
   "outputs": [],
   "source": [
    "### dropping hum from the model\n",
    "X_train_new = X_train_new.drop(['hum'], axis=1)"
   ]
  },
  {
   "cell_type": "code",
   "execution_count": null,
   "id": "79c23e26",
   "metadata": {
    "executionInfo": {
     "elapsed": 448,
     "status": "ok",
     "timestamp": 1656730300625,
     "user": {
      "displayName": "harish kumar",
      "userId": "06127230580454505577"
     },
     "user_tz": -330
    },
    "id": "79c23e26"
   },
   "outputs": [],
   "source": [
    "# Adding a constant variable \n",
    "X_train_lm = sm.add_constant(X_train_new)\n",
    "\n",
    "# Create a first fitted model\n",
    "lm = sm.OLS(y_train,X_train_lm).fit()"
   ]
  },
  {
   "cell_type": "code",
   "execution_count": null,
   "id": "e6a35f30",
   "metadata": {
    "colab": {
     "base_uri": "https://localhost:8080/"
    },
    "executionInfo": {
     "elapsed": 7,
     "status": "ok",
     "timestamp": 1656730302279,
     "user": {
      "displayName": "harish kumar",
      "userId": "06127230580454505577"
     },
     "user_tz": -330
    },
    "id": "e6a35f30",
    "outputId": "18e5288e-9b7f-45f9-9855-881f5fe973f2"
   },
   "outputs": [],
   "source": [
    "# Check the summary\n",
    "print(lm.summary())"
   ]
  },
  {
   "cell_type": "code",
   "execution_count": null,
   "id": "c75c2e0c",
   "metadata": {
    "colab": {
     "base_uri": "https://localhost:8080/",
     "height": 394
    },
    "executionInfo": {
     "elapsed": 427,
     "status": "ok",
     "timestamp": 1656730310385,
     "user": {
      "displayName": "harish kumar",
      "userId": "06127230580454505577"
     },
     "user_tz": -330
    },
    "id": "c75c2e0c",
    "outputId": "c6a26f29-9c9b-441e-b184-24a63059a61a",
    "scrolled": true
   },
   "outputs": [],
   "source": [
    "# Calculate the VIFs for the new model again\n",
    "vif = pd.DataFrame()\n",
    "X = X_train_new\n",
    "vif['Features'] = X.columns\n",
    "vif['VIF'] = [variance_inflation_factor(X.values, i) for i in range(X.shape[1])]\n",
    "vif['VIF'] = round(vif['VIF'], 2)\n",
    "vif = vif.sort_values(by = \"VIF\", ascending = False)\n",
    "vif"
   ]
  },
  {
   "cell_type": "markdown",
   "id": "00334871",
   "metadata": {
    "id": "00334871"
   },
   "source": [
    "### Model 4"
   ]
  },
  {
   "cell_type": "code",
   "execution_count": null,
   "id": "1eff279d",
   "metadata": {
    "executionInfo": {
     "elapsed": 399,
     "status": "ok",
     "timestamp": 1656730331769,
     "user": {
      "displayName": "harish kumar",
      "userId": "06127230580454505577"
     },
     "user_tz": -330
    },
    "id": "1eff279d"
   },
   "outputs": [],
   "source": [
    "### dropping  windspeed  from the model\n",
    "X_train_new = X_train_new.drop(['windspeed'], axis=1)"
   ]
  },
  {
   "cell_type": "code",
   "execution_count": null,
   "id": "16396a63",
   "metadata": {
    "executionInfo": {
     "elapsed": 439,
     "status": "ok",
     "timestamp": 1656730340515,
     "user": {
      "displayName": "harish kumar",
      "userId": "06127230580454505577"
     },
     "user_tz": -330
    },
    "id": "16396a63"
   },
   "outputs": [],
   "source": [
    "# Adding a constant variable \n",
    "X_train_lm = sm.add_constant(X_train_new)\n",
    "\n",
    "# Create a first fitted model\n",
    "lm = sm.OLS(y_train,X_train_lm).fit()"
   ]
  },
  {
   "cell_type": "code",
   "execution_count": null,
   "id": "31b77382",
   "metadata": {
    "colab": {
     "base_uri": "https://localhost:8080/"
    },
    "executionInfo": {
     "elapsed": 417,
     "status": "ok",
     "timestamp": 1656730345290,
     "user": {
      "displayName": "harish kumar",
      "userId": "06127230580454505577"
     },
     "user_tz": -330
    },
    "id": "31b77382",
    "outputId": "735a1a1f-d64f-4bf7-9826-cf03b484ff84"
   },
   "outputs": [],
   "source": [
    "# Check the summary\n",
    "print(lm.summary())"
   ]
  },
  {
   "cell_type": "code",
   "execution_count": null,
   "id": "a6071dfc",
   "metadata": {
    "colab": {
     "base_uri": "https://localhost:8080/",
     "height": 363
    },
    "executionInfo": {
     "elapsed": 744,
     "status": "ok",
     "timestamp": 1656730355668,
     "user": {
      "displayName": "harish kumar",
      "userId": "06127230580454505577"
     },
     "user_tz": -330
    },
    "id": "a6071dfc",
    "outputId": "d619d8de-31d2-4617-a41f-d51c847de664"
   },
   "outputs": [],
   "source": [
    "# Calculate the VIFs for the new model again\n",
    "vif = pd.DataFrame()\n",
    "X = X_train_new\n",
    "vif['Features'] = X.columns\n",
    "vif['VIF'] = [variance_inflation_factor(X.values, i) for i in range(X.shape[1])]\n",
    "vif['VIF'] = round(vif['VIF'], 2)\n",
    "vif = vif.sort_values(by = \"VIF\", ascending = False)\n",
    "vif"
   ]
  },
  {
   "cell_type": "markdown",
   "id": "205428c7",
   "metadata": {
    "id": "205428c7"
   },
   "source": [
    "### Residual Analysis of the train data\n",
    "#### So, now to check if the error terms are also normally distributed (which is infact, one of the major assumptions of linear regression), let us plot the histogram of the error terms and see what it looks like."
   ]
  },
  {
   "cell_type": "code",
   "execution_count": null,
   "id": "759f1f03",
   "metadata": {
    "executionInfo": {
     "elapsed": 471,
     "status": "ok",
     "timestamp": 1656730362495,
     "user": {
      "displayName": "harish kumar",
      "userId": "06127230580454505577"
     },
     "user_tz": -330
    },
    "id": "759f1f03"
   },
   "outputs": [],
   "source": [
    "y_train_cnt = lm.predict(X_train_lm)"
   ]
  },
  {
   "cell_type": "code",
   "execution_count": null,
   "id": "3f666079",
   "metadata": {
    "colab": {
     "base_uri": "https://localhost:8080/",
     "height": 334
    },
    "executionInfo": {
     "elapsed": 492,
     "status": "ok",
     "timestamp": 1656730393751,
     "user": {
      "displayName": "harish kumar",
      "userId": "06127230580454505577"
     },
     "user_tz": -330
    },
    "id": "3f666079",
    "outputId": "8ee2b10d-7fa6-46e6-8d7c-34b2d771c447"
   },
   "outputs": [],
   "source": [
    "# Plot the histogram of the error terms\n",
    "fig = plt.figure()\n",
    "sns.distplot((y_train - y_train_cnt), bins = 20)\n",
    "fig.suptitle('Error Terms', fontsize = 20)                  # Plot heading \n",
    "plt.xlabel('Errors', fontsize = 18)                         # X-label"
   ]
  },
  {
   "cell_type": "markdown",
   "id": "0fd241b3",
   "metadata": {
    "id": "0fd241b3"
   },
   "source": [
    "### Step 8: Making Predictions Using the Final Model\n",
    "#### Now that we have fitted the model and checked the normality of error terms, it's time to go ahead and make predictions using the final model 4."
   ]
  },
  {
   "cell_type": "code",
   "execution_count": null,
   "id": "00dde97a",
   "metadata": {
    "executionInfo": {
     "elapsed": 435,
     "status": "ok",
     "timestamp": 1656730715625,
     "user": {
      "displayName": "harish kumar",
      "userId": "06127230580454505577"
     },
     "user_tz": -330
    },
    "id": "00dde97a"
   },
   "outputs": [],
   "source": [
    "num_vars = ['cnt','hum','windspeed','temp','atemp']\n",
    "\n",
    "\n",
    "test[num_vars] = scaler.transform(test[num_vars])"
   ]
  },
  {
   "cell_type": "code",
   "execution_count": null,
   "id": "e74aecb4",
   "metadata": {
    "colab": {
     "base_uri": "https://localhost:8080/",
     "height": 411
    },
    "executionInfo": {
     "elapsed": 11,
     "status": "ok",
     "timestamp": 1656730717460,
     "user": {
      "displayName": "harish kumar",
      "userId": "06127230580454505577"
     },
     "user_tz": -330
    },
    "id": "e74aecb4",
    "outputId": "d3ebd651-8b2b-4998-b372-85ed01e8289f"
   },
   "outputs": [],
   "source": [
    "test.describe()"
   ]
  },
  {
   "cell_type": "markdown",
   "id": "88bc7caa",
   "metadata": {
    "id": "88bc7caa"
   },
   "source": [
    "#### Dividing into X_test and y_test"
   ]
  },
  {
   "cell_type": "code",
   "execution_count": null,
   "id": "4468a5e8",
   "metadata": {
    "executionInfo": {
     "elapsed": 485,
     "status": "ok",
     "timestamp": 1656730722199,
     "user": {
      "displayName": "harish kumar",
      "userId": "06127230580454505577"
     },
     "user_tz": -330
    },
    "id": "4468a5e8"
   },
   "outputs": [],
   "source": [
    "y_test = test.pop('cnt')\n",
    "X_test = test"
   ]
  },
  {
   "cell_type": "code",
   "execution_count": null,
   "id": "495ea645",
   "metadata": {
    "id": "495ea645"
   },
   "outputs": [],
   "source": [
    "# Adding constant variable to test dataframe\n",
    "X_test = sm.add_constant(X_test)"
   ]
  },
  {
   "cell_type": "code",
   "execution_count": null,
   "id": "9aa5ce54",
   "metadata": {
    "colab": {
     "base_uri": "https://localhost:8080/"
    },
    "executionInfo": {
     "elapsed": 434,
     "status": "ok",
     "timestamp": 1656730726274,
     "user": {
      "displayName": "harish kumar",
      "userId": "06127230580454505577"
     },
     "user_tz": -330
    },
    "id": "9aa5ce54",
    "outputId": "a6a3d9cb-62f7-437c-fba2-a0681341a8d5"
   },
   "outputs": [],
   "source": [
    "# predicting using values used by the final model\n",
    "test_col = X_train_lm.columns\n",
    "X_test=X_test[test_col[1:]]\n",
    "# Adding constant variable to test dataframe\n",
    "X_test = sm.add_constant(X_test)\n",
    "\n",
    "X_test.info()"
   ]
  },
  {
   "cell_type": "code",
   "execution_count": null,
   "id": "689a6ccb",
   "metadata": {
    "executionInfo": {
     "elapsed": 416,
     "status": "ok",
     "timestamp": 1656730730869,
     "user": {
      "displayName": "harish kumar",
      "userId": "06127230580454505577"
     },
     "user_tz": -330
    },
    "id": "689a6ccb"
   },
   "outputs": [],
   "source": [
    "# Making predictions using the fourth model\n",
    "\n",
    "y_pred = lm.predict(X_test)"
   ]
  },
  {
   "cell_type": "code",
   "execution_count": null,
   "id": "1b27d393",
   "metadata": {
    "colab": {
     "base_uri": "https://localhost:8080/"
    },
    "executionInfo": {
     "elapsed": 4,
     "status": "ok",
     "timestamp": 1656730732593,
     "user": {
      "displayName": "harish kumar",
      "userId": "06127230580454505577"
     },
     "user_tz": -330
    },
    "id": "1b27d393",
    "outputId": "3092b312-5456-4ab2-8082-e3d588d26c7e"
   },
   "outputs": [],
   "source": [
    "from sklearn.metrics import r2_score\n",
    "r2_score(y_test, y_pred)"
   ]
  },
  {
   "cell_type": "code",
   "execution_count": null,
   "id": "234f7ad0",
   "metadata": {
    "colab": {
     "base_uri": "https://localhost:8080/"
    },
    "executionInfo": {
     "elapsed": 398,
     "status": "ok",
     "timestamp": 1656730736985,
     "user": {
      "displayName": "harish kumar",
      "userId": "06127230580454505577"
     },
     "user_tz": -330
    },
    "id": "234f7ad0",
    "outputId": "7ca9653c-9e7f-43bd-9b8d-5f5c8fd53444"
   },
   "outputs": [],
   "source": [
    "from sklearn.metrics import mean_squared_error\n",
    "mse = mean_squared_error(y_test, y_pred)\n",
    "mse"
   ]
  },
  {
   "cell_type": "markdown",
   "id": "e3dd3a82",
   "metadata": {
    "id": "e3dd3a82"
   },
   "source": [
    "### Step 9: Model Evaluation\n",
    "#### Let's now plot the graph for actual versus predicted values."
   ]
  },
  {
   "cell_type": "code",
   "execution_count": null,
   "id": "eb8d2589",
   "metadata": {
    "colab": {
     "base_uri": "https://localhost:8080/",
     "height": 334
    },
    "executionInfo": {
     "elapsed": 453,
     "status": "ok",
     "timestamp": 1656730749226,
     "user": {
      "displayName": "harish kumar",
      "userId": "06127230580454505577"
     },
     "user_tz": -330
    },
    "id": "eb8d2589",
    "outputId": "338016bb-4a89-440f-ba4e-bb5a94ee786d"
   },
   "outputs": [],
   "source": [
    "# Plotting y_test and y_pred to understand the spread\n",
    "\n",
    "fig = plt.figure()\n",
    "plt.scatter(y_test, y_pred)\n",
    "fig.suptitle('y_test vs y_pred', fontsize = 20)              # Plot heading \n",
    "plt.xlabel('y_test', fontsize = 18)                          # X-label\n",
    "plt.ylabel('y_pred', fontsize = 16)"
   ]
  },
  {
   "cell_type": "code",
   "execution_count": null,
   "id": "c3a18bbd",
   "metadata": {
    "executionInfo": {
     "elapsed": 515,
     "status": "ok",
     "timestamp": 1656730761478,
     "user": {
      "displayName": "harish kumar",
      "userId": "06127230580454505577"
     },
     "user_tz": -330
    },
    "id": "c3a18bbd"
   },
   "outputs": [],
   "source": [
    "#Function to plot Actual vs Predicted\n",
    "#Takes Actual and PRedicted values as input along with the scale and Title to indicate which data\n",
    "def plot_act_pred(act,pred,scale,dataname):\n",
    "    c = [i for i in range(1,scale,1)]\n",
    "    fig = plt.figure(figsize=(14,5))\n",
    "    plt.plot(c,act, color=\"blue\", linewidth=2.5, linestyle=\"-\")\n",
    "    plt.plot(c,pred, color=\"red\",  linewidth=2.5, linestyle=\"-\")\n",
    "    fig.suptitle('Actual and Predicted - '+dataname, fontsize=20)              # Plot heading \n",
    "    plt.xlabel('Index', fontsize=18)                               # X-label\n",
    "    plt.ylabel('Counts', fontsize=16)                               # Y-label"
   ]
  },
  {
   "cell_type": "code",
   "execution_count": null,
   "id": "a5863d1f",
   "metadata": {
    "colab": {
     "base_uri": "https://localhost:8080/",
     "height": 378
    },
    "executionInfo": {
     "elapsed": 1076,
     "status": "ok",
     "timestamp": 1656730764471,
     "user": {
      "displayName": "harish kumar",
      "userId": "06127230580454505577"
     },
     "user_tz": -330
    },
    "id": "a5863d1f",
    "outputId": "0dc3e3c8-49c5-4991-cc1d-3dae823a3303"
   },
   "outputs": [],
   "source": [
    "#Plot Actual vs Predicted for Test Data\n",
    "plot_act_pred(y_test,y_pred,len(y_test)+1,'Test Data')"
   ]
  },
  {
   "cell_type": "markdown",
   "id": "543841c7",
   "metadata": {
    "id": "543841c7"
   },
   "source": [
    "### Inference\n",
    "#### As we can see predictions for test data is very close to actuals"
   ]
  },
  {
   "cell_type": "code",
   "execution_count": null,
   "id": "3ed3f64a",
   "metadata": {
    "colab": {
     "base_uri": "https://localhost:8080/",
     "height": 425
    },
    "executionInfo": {
     "elapsed": 438,
     "status": "ok",
     "timestamp": 1656730782228,
     "user": {
      "displayName": "harish kumar",
      "userId": "06127230580454505577"
     },
     "user_tz": -330
    },
    "id": "3ed3f64a",
    "outputId": "b4acaba3-b85e-460d-ac01-9693ba461280"
   },
   "outputs": [],
   "source": [
    "param = pd.DataFrame(lm.params)\n",
    "param.insert(0,'Variables',param.index)\n",
    "param.rename(columns = {0:'Coefficient value'},inplace = True)\n",
    "param['index'] = list(range(0,11))\n",
    "param.set_index('index',inplace = True)\n",
    "param.sort_values(by = 'Coefficient value',ascending = False,inplace = True)\n",
    "param"
   ]
  },
  {
   "cell_type": "markdown",
   "id": "0fe35173",
   "metadata": {
    "id": "0fe35173"
   },
   "source": [
    "\n",
    "### We can see that the equation of our best fitted line is:\n",
    "\n",
    "#### cnt = 0.150272 + 0.503434 X temp + 0.232512 X yr + 0.084209 X seasonWinter - 0.076368 X season Spring + 0.084209 X season_Winter -0.052695 X mnth_Jul + 0.081025 X mnth_Sep -0.299896 X weathersit_Light Snow & Rain -0.079834 X weathersit_Mist & Cloudy -0.100805 X holiday \n",
    "\n",
    "#### All the positive coefficients like temp,season_Summer indicate that an increase in these values will lead to an increase in the value of cnt.\n",
    "#### All the negative coefficients like indicate that an increase in these values will lead to an increase in the value of cnt.\n",
    "#### Temp is the most significant with the largest coefficient.\n",
    "#### Followed by weathersit_Light Snow & Rain.\n",
    "#### Bike rentals is more for the month of september\n",
    "#### The rentals reduce during holidays\n",
    "#### This indicates that the bike rentals is majorly affected by temperature,season and month.\n"
   ]
  },
  {
   "cell_type": "code",
   "execution_count": null,
   "id": "01342106",
   "metadata": {
    "id": "01342106"
   },
   "outputs": [],
   "source": []
  }
 ],
 "metadata": {
  "colab": {
   "name": "Bike-Sharing-Demand-Prediction-solution.ipynb",
   "provenance": []
  },
  "kernelspec": {
   "display_name": "Python 3 (ipykernel)",
   "language": "python",
   "name": "python3"
  },
  "language_info": {
   "codemirror_mode": {
    "name": "ipython",
    "version": 3
   },
   "file_extension": ".py",
   "mimetype": "text/x-python",
   "name": "python",
   "nbconvert_exporter": "python",
   "pygments_lexer": "ipython3",
   "version": "3.9.13"
  }
 },
 "nbformat": 4,
 "nbformat_minor": 5
}
